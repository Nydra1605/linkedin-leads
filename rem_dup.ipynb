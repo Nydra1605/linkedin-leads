{
 "cells": [
  {
   "cell_type": "code",
   "execution_count": 2,
   "id": "acaf3cf4-187a-4469-8a90-48061a77df75",
   "metadata": {},
   "outputs": [],
   "source": [
    "# 1) Imports & file path\n",
    "import pandas as pd\n",
    "from pathlib import Path\n",
    "\n",
    "csv_path = Path(\"Customer360.csv\")  # change if your file is elsewhere\n",
    "assert csv_path.exists(), f\"File not found: {csv_path}\"\n"
   ]
  },
  {
   "cell_type": "code",
   "execution_count": 3,
   "id": "59a04a1b-eea4-4651-b823-2ee656263a3e",
   "metadata": {},
   "outputs": [
    {
     "name": "stdout",
     "output_type": "stream",
     "text": [
      "Before de-duplication:\n",
      "Rows: 92,910\n",
      "Columns: ['Lead_Company', 'VW_technology', 'URL', 'Source_Name']\n"
     ]
    }
   ],
   "source": [
    "# 2) Load the CSV\n",
    "df = pd.read_csv(csv_path)\n",
    "\n",
    "print(\"Before de-duplication:\")\n",
    "print(f\"Rows: {len(df):,}\")\n",
    "print(f\"Columns: {list(df.columns)}\")\n"
   ]
  },
  {
   "cell_type": "code",
   "execution_count": 4,
   "id": "cf3da168-c549-4bf2-9707-563189530ee6",
   "metadata": {},
   "outputs": [],
   "source": [
    "# 3) (Optional but recommended) normalize the Lead_Company values\n",
    "#    This helps catch duplicates that only differ by case or extra spaces.\n",
    "col = \"Lead_Company\"\n",
    "if col not in df.columns:\n",
    "    raise KeyError(f\"Column '{col}' not found in CSV.\")\n",
    "\n",
    "df[col] = (\n",
    "    df[col]\n",
    "    .astype(str)         # ensure string\n",
    "    .str.strip()         # trim spaces\n",
    "    .str.replace(r\"\\s+\", \" \", regex=True)  # collapse multiple spaces\n",
    "    .str.lower()         # make case-insensitive comparisons\n",
    ")\n"
   ]
  },
  {
   "cell_type": "code",
   "execution_count": 5,
   "id": "6d1aa837-7448-4cda-b5fa-e470237f5f52",
   "metadata": {},
   "outputs": [
    {
     "name": "stdout",
     "output_type": "stream",
     "text": [
      "Removed 69,885 duplicate rows based on 'Lead_Company'.\n",
      "After de-duplication: 23,025 rows.\n"
     ]
    }
   ],
   "source": [
    "# 4) Drop duplicates based on Lead_Company, keeping the first occurrence\n",
    "before = len(df)\n",
    "df_dedup = df.drop_duplicates(subset=[col], keep=\"first\").reset_index(drop=True)\n",
    "after = len(df_dedup)\n",
    "\n",
    "print(f\"Removed {before - after:,} duplicate rows based on '{col}'.\")\n",
    "print(f\"After de-duplication: {after:,} rows.\")\n"
   ]
  },
  {
   "cell_type": "code",
   "execution_count": 6,
   "id": "11242363-e3ba-4ed2-92a2-0b3e55fa837a",
   "metadata": {},
   "outputs": [
    {
     "name": "stdout",
     "output_type": "stream",
     "text": [
      "Saved de-duplicated data back to: Customer360.csv\n"
     ]
    }
   ],
   "source": [
    "# 5) Save back to the SAME file (overwrites the original)\n",
    "df_dedup.to_csv(csv_path, index=False)\n",
    "print(f\"Saved de-duplicated data back to: {csv_path}\")\n"
   ]
  },
  {
   "cell_type": "code",
   "execution_count": null,
   "id": "9aa3895a-c36c-4580-a4b0-e19cc0457208",
   "metadata": {},
   "outputs": [],
   "source": []
  }
 ],
 "metadata": {
  "kernelspec": {
   "display_name": "Python 3 (ipykernel)",
   "language": "python",
   "name": "python3"
  },
  "language_info": {
   "codemirror_mode": {
    "name": "ipython",
    "version": 3
   },
   "file_extension": ".py",
   "mimetype": "text/x-python",
   "name": "python",
   "nbconvert_exporter": "python",
   "pygments_lexer": "ipython3",
   "version": "3.12.0"
  }
 },
 "nbformat": 4,
 "nbformat_minor": 5
}
